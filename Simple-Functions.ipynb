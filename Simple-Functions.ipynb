{
    "cells": [
        {
            "cell_type": "code",
            "execution_count": 1,
            "metadata": {},
            "outputs": [
                {
                    "name": "stdout",
                    "output_type": "stream",
                    "text": "Waiting for a Spark session to start...\nSpark Initialization Done! ApplicationId = app-20200501165831-0000\nKERNEL_ID = 1adcbdb4-25da-47ab-87c6-d76d0df06e96\n"
                }
            ],
            "source": "rdd = sc.parallelize(range(100))"
        },
        {
            "cell_type": "code",
            "execution_count": 3,
            "metadata": {},
            "outputs": [
                {
                    "data": {
                        "text/plain": "[1, 2, 3, 4, 5, 6, 7, 8, 9, 10]"
                    },
                    "execution_count": 3,
                    "metadata": {},
                    "output_type": "execute_result"
                }
            ],
            "source": "rdd.map(lambda x : x+1).take(10)"
        },
        {
            "cell_type": "code",
            "execution_count": 7,
            "metadata": {},
            "outputs": [
                {
                    "data": {
                        "text/plain": "5050"
                    },
                    "execution_count": 7,
                    "metadata": {},
                    "output_type": "execute_result"
                }
            ],
            "source": "sc.parallelize(range(1,101)).reduce(lambda a,b: a+b)"
        },
        {
            "cell_type": "code",
            "execution_count": 8,
            "metadata": {},
            "outputs": [],
            "source": "def gt50(i):\n    if i > 50:\n        return True\n    else:\n        return False"
        },
        {
            "cell_type": "code",
            "execution_count": 9,
            "metadata": {},
            "outputs": [
                {
                    "name": "stdout",
                    "output_type": "stream",
                    "text": "False\nTrue\n"
                }
            ],
            "source": "print(gt50(4))\nprint(gt50(51))"
        },
        {
            "cell_type": "code",
            "execution_count": 10,
            "metadata": {},
            "outputs": [],
            "source": "def gt50(i):\n    return i > 50"
        },
        {
            "cell_type": "code",
            "execution_count": 11,
            "metadata": {},
            "outputs": [],
            "source": "gt50 = lambda i: i > 50"
        },
        {
            "cell_type": "code",
            "execution_count": 12,
            "metadata": {},
            "outputs": [
                {
                    "name": "stdout",
                    "output_type": "stream",
                    "text": "False\nTrue\n"
                }
            ],
            "source": "print(gt50(4))\nprint(gt50(51))"
        },
        {
            "cell_type": "code",
            "execution_count": 13,
            "metadata": {},
            "outputs": [],
            "source": "#let's shuffle our list to make it a bit more interesting\nfrom random import shuffle\nl = list(range(100))\nshuffle(l)\nrdd = sc.parallelize(l)"
        },
        {
            "cell_type": "code",
            "execution_count": 14,
            "metadata": {},
            "outputs": [
                {
                    "data": {
                        "text/plain": "[66,\n 84,\n 71,\n 80,\n 62,\n 56,\n 98,\n 93,\n 63,\n 52,\n 78,\n 61,\n 67,\n 79,\n 57,\n 59,\n 77,\n 73,\n 91,\n 96,\n 54,\n 55,\n 95,\n 85,\n 60,\n 89,\n 87,\n 69,\n 99,\n 64,\n 83,\n 65,\n 97,\n 76,\n 92,\n 75,\n 68,\n 70,\n 58,\n 74,\n 88,\n 53,\n 94,\n 72,\n 81,\n 51,\n 86,\n 82,\n 90]"
                    },
                    "execution_count": 14,
                    "metadata": {},
                    "output_type": "execute_result"
                }
            ],
            "source": "rdd.filter(gt50).collect()"
        },
        {
            "cell_type": "code",
            "execution_count": 15,
            "metadata": {},
            "outputs": [
                {
                    "data": {
                        "text/plain": "[66,\n 84,\n 71,\n 80,\n 62,\n 56,\n 98,\n 93,\n 63,\n 52,\n 78,\n 61,\n 67,\n 79,\n 57,\n 59,\n 77,\n 73,\n 91,\n 96,\n 54,\n 55,\n 95,\n 85,\n 60,\n 89,\n 87,\n 69,\n 99,\n 64,\n 83,\n 65,\n 97,\n 76,\n 92,\n 75,\n 68,\n 70,\n 58,\n 74,\n 88,\n 53,\n 94,\n 72,\n 81,\n 51,\n 86,\n 82,\n 90]"
                    },
                    "execution_count": 15,
                    "metadata": {},
                    "output_type": "execute_result"
                }
            ],
            "source": "rdd.filter(lambda i: i > 50).collect()"
        },
        {
            "cell_type": "code",
            "execution_count": 17,
            "metadata": {},
            "outputs": [
                {
                    "data": {
                        "text/plain": "[84,\n 71,\n 80,\n 98,\n 93,\n 78,\n 79,\n 77,\n 73,\n 91,\n 96,\n 95,\n 85,\n 89,\n 87,\n 99,\n 83,\n 97,\n 76,\n 92,\n 75,\n 74,\n 88,\n 94,\n 72,\n 81,\n 86,\n 82,\n 90]"
                    },
                    "execution_count": 17,
                    "metadata": {},
                    "output_type": "execute_result"
                }
            ],
            "source": "rdd.filter(lambda x: x>50 ).filter(lambda x: x>70 ).take(100)"
        },
        {
            "cell_type": "code",
            "execution_count": null,
            "metadata": {},
            "outputs": [],
            "source": ""
        }
    ],
    "metadata": {
        "kernelspec": {
            "display_name": "Python 3.6 with Spark",
            "language": "python3",
            "name": "python36"
        },
        "language_info": {
            "codemirror_mode": {
                "name": "ipython",
                "version": 3
            },
            "file_extension": ".py",
            "mimetype": "text/x-python",
            "name": "python",
            "nbconvert_exporter": "python",
            "pygments_lexer": "ipython3",
            "version": "3.6.8"
        }
    },
    "nbformat": 4,
    "nbformat_minor": 1
}